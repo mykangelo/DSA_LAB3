{
 "cells": [
  {
   "cell_type": "markdown",
   "metadata": {},
   "source": [
    " * Name: Myk Angelo M. Magsipoc\n",
    " * CYS: BSCPE 2-3\n",
    " * Subject: Data Structure and Algorithm\n",
    " * Lab Activity 3: Python Review\n",
    " * Deadline: October 8, 2024 11:59 PM"
   ]
  },
  {
   "cell_type": "markdown",
   "metadata": {},
   "source": [
    "## Lab exercise 1\n",
    "\n",
    "from a given list of integers, create a new list using comprehension that will compute the square of odd integer elements.\n",
    "\n",
    "sample calls\n",
    "\n",
    "* [2,4,3] == [9]\n",
    "* [0,0,1,1] == [1,1]"
   ]
  },
  {
   "cell_type": "code",
   "execution_count": 44,
   "metadata": {},
   "outputs": [
    {
     "name": "stdout",
     "output_type": "stream",
     "text": [
      "[9]\n",
      "[1, 1]\n"
     ]
    }
   ],
   "source": [
    "list1 = [2, 4, 3]\n",
    "list2 = [0, 0, 1, 1]\n",
    "\n",
    "result1 = [x**2 for x in list1 if x % 2 != 0]\n",
    "result2 = [x**2 for x in list2 if x % 2 != 0]\n",
    "\n",
    "print(result1)\n",
    "print(result2)\n"
   ]
  },
  {
   "cell_type": "markdown",
   "metadata": {},
   "source": [
    "## Lab exercise 2\n",
    "\n",
    "Using comprehension,create a new list of tuples from two given lists:\n",
    "\n",
    "### sample calls\n",
    "\n",
    "* list1[1,2,3]\n",
    "* list2[\"mark\",\"alice\",\"john\"]\n",
    "\n",
    "result: listOfTuple[(1,\"mark\"),(2,\"alice\"),(3,\"john\")] "
   ]
  },
  {
   "cell_type": "code",
   "execution_count": 45,
   "metadata": {},
   "outputs": [
    {
     "name": "stdout",
     "output_type": "stream",
     "text": [
      "result: listOfTuples [(1, 'mark'), (2, 'alice'), (3, 'john')]\n"
     ]
    }
   ],
   "source": [
    "list1 = [1, 2 ,3]\n",
    "list2 = [\"mark\",\"alice\",\"john\"]\n",
    "\n",
    "listOfTuples = [(list1[i], list2[i]) for i in range(max(len(list1), len(list2)))]\n",
    "print(f'result:','listOfTuples', listOfTuples)"
   ]
  },
  {
   "cell_type": "markdown",
   "metadata": {},
   "source": [
    "## Lab exercise 3\n",
    "### Provide a list comprehension that implementation for a function called vowelsToUpper with the following signature:\n",
    "\n",
    "method name : vowelsToUpper\n",
    "\n",
    "input argument : String \n",
    "\n",
    "return argument : String\n",
    "\n",
    "vowelsToUpper must return a version of its String argument with all its vowels changed to their uppercase forms. Nonvowel characters stay as is.\n",
    "\n",
    "### Sample Calls\n",
    "\n",
    "vowelsToUpper \"\" == \"\"\n",
    "\n",
    "vowelsToUpper \"Hello, world!\" == \"HEllO, wOrld!\"\n",
    "\n",
    "vowelsToUpper \"hello hi bye\" == \"hEllO hI byE\""
   ]
  },
  {
   "cell_type": "code",
   "execution_count": 51,
   "metadata": {},
   "outputs": [
    {
     "name": "stdout",
     "output_type": "stream",
     "text": [
      "HEllO, wOrld\n",
      "hEllO hI byE\n"
     ]
    }
   ],
   "source": [
    "def vowelsToUpper(String):\n",
    "    vowels = ['a', 'e', 'i', 'o', 'u']\n",
    "    result = ''.join([char.upper() if char.lower() in vowels else char for char in String])\n",
    "    return result\n",
    "\n",
    "\n",
    "print(vowelsToUpper(\"Hello, world\"))\n",
    "print(vowelsToUpper(\"hello hi bye\"))"
   ]
  },
  {
   "cell_type": "markdown",
   "metadata": {},
   "source": []
  }
 ],
 "metadata": {
  "kernelspec": {
   "display_name": "Python 3",
   "language": "python",
   "name": "python3"
  },
  "language_info": {
   "codemirror_mode": {
    "name": "ipython",
    "version": 3
   },
   "file_extension": ".py",
   "mimetype": "text/x-python",
   "name": "python",
   "nbconvert_exporter": "python",
   "pygments_lexer": "ipython3",
   "version": "3.12.2"
  }
 },
 "nbformat": 4,
 "nbformat_minor": 2
}
